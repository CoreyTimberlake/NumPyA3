{
  "nbformat": 4,
  "nbformat_minor": 0,
  "metadata": {
    "colab": {
      "provenance": []
    },
    "kernelspec": {
      "name": "python3",
      "display_name": "Python 3"
    },
    "language_info": {
      "name": "python"
    }
  },
  "cells": [
    {
      "cell_type": "code",
      "execution_count": 22,
      "metadata": {
        "id": "ECuF8i6wT7X0"
      },
      "outputs": [],
      "source": [
        "import numpy as np\n",
        "\n",
        "np.random.seed(77)\n",
        "Q1 = np.random.randint(0,50, size = (8,6))\n",
        "#print(Q1)\n",
        "\n",
        "Q2 = Q1[2:-1, 4:]\n",
        "#print(Q2)\n",
        "\n",
        "Q3 = Q1[2:, 3:-1]\n",
        "#print(Q3)\n",
        "\n",
        "Q4 = np.reshape(Q3,(2,6))\n",
        "#print(Q4)\n",
        "\n",
        "Q5 = np.reshape(Q4,(3,4))\n",
        "#print(Q5)\n",
        "\n",
        "\n",
        "Q6 = np.array([(\"Janetta\", \"Lydia\", 58, 58), (\"Deb\", \"Albin\", 68, 50), (\"Minato\", \"Vanja\", 78, 38), (\"Maurine\", \"Peter\", 77, 57), (\"Niketas\", \"Justine\", 70, 60)],\n",
        "              dtype=[('Name', 'U20'), ('Last', 'U20'), ('Height', 'int16'), ('Age', 'int16')])\n",
        "\n",
        "#print(Q6)"
      ]
    }
  ]
}